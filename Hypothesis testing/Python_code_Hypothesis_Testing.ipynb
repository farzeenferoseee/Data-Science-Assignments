{
  "nbformat": 4,
  "nbformat_minor": 0,
  "metadata": {
    "colab": {
      "provenance": []
    },
    "kernelspec": {
      "name": "python3",
      "display_name": "Python 3"
    },
    "language_info": {
      "name": "python"
    }
  },
  "cells": [
    {
      "cell_type": "code",
      "source": [
        "#Import libraries\n",
        "import numpy as np\n",
        "from scipy import stats"
      ],
      "metadata": {
        "id": "OwN8rUwOyrnG"
      },
      "execution_count": 9,
      "outputs": []
    },
    {
      "cell_type": "code",
      "execution_count": 10,
      "metadata": {
        "id": "KaE6HqJHn775"
      },
      "outputs": [],
      "source": [
        "# Step 1: Define the given data\n",
        "sample_mean = 3050  # Observed mean weekly cost from the sample\n",
        "theoretical_mean = 4000  # Theoretical mean weekly cost\n",
        "std_dev = 5 * 25  # Standard deviation = 5 * 25 units\n",
        "sample_size = 25  # Number of restaurants\n",
        "alpha = 0.05  # Significance level"
      ]
    },
    {
      "cell_type": "code",
      "source": [
        "# Step 2: Calculate the test statistic (t)\n",
        "\n",
        "#Define function to calculate test statistic (t)\n",
        "def calculate_test_statistic(sample_mean, theoretical_mean, std_dev, sample_size):\n",
        "    return (sample_mean - theoretical_mean) / (std_dev / np.sqrt(sample_size))\n",
        "\n",
        "test_statistic = calculate_test_statistic(sample_mean, theoretical_mean, std_dev, sample_size)"
      ],
      "metadata": {
        "id": "rqu7tVC-tWnZ"
      },
      "execution_count": 11,
      "outputs": []
    },
    {
      "cell_type": "code",
      "source": [
        "# Step 3: Determine the critical value for a one-tailed test\n",
        "df = sample_size - 1  # Degrees of freedom\n",
        "critical_value = stats.t.ppf(1 - alpha, df)"
      ],
      "metadata": {
        "id": "M4ROjrDzuDWD"
      },
      "execution_count": 12,
      "outputs": []
    },
    {
      "cell_type": "code",
      "source": [
        "# Step 4: Make a decision\n",
        "# If t > critical value, then we can reject null hypothesis\n",
        "#If t < critical value, there we cannot reject the null hypothesis\n",
        "\n",
        "if test_statistic > critical_value:\n",
        "    decision = \"Reject the null hypothesis\"\n",
        "    conclusion = \"There is evidence to support the restaurant owners' claim that the weekly operating costs are higher than the model suggests.\"\n",
        "\n",
        "else:\n",
        "    decision = \"Fail to reject the null hypothesis\"\n",
        "    conclusion = \"There is not enough evidence to support the restaurant owners' claim that the weekly operating costs are higher than the model suggests.\"\n"
      ],
      "metadata": {
        "id": "j13RIT8owGGO"
      },
      "execution_count": 13,
      "outputs": []
    },
    {
      "cell_type": "code",
      "source": [
        "#Output results\n",
        "print(\"Hypothesis test results:\")\n",
        "print(\"Test statistic (t-score):\", test_statistic)\n",
        "print(\"Critical value:\", critical_value)\n",
        "print(\"Decision:\", conclusion)\n",
        "print(\"Conclusion:\", conclusion)"
      ],
      "metadata": {
        "colab": {
          "base_uri": "https://localhost:8080/"
        },
        "id": "tKO5DixL1Tnk",
        "outputId": "0556b553-6cf8-4745-ad02-ecc6d60b82b1"
      },
      "execution_count": 14,
      "outputs": [
        {
          "output_type": "stream",
          "name": "stdout",
          "text": [
            "Hypothesis test results:\n",
            "Test statistic (t-score): -38.0\n",
            "Critical value: 1.7108820799094275\n",
            "Decision: There is not enough evidence to support the restaurant owners' claim that the weekly operating costs are higher than the model suggests.\n",
            "Conclusion: There is not enough evidence to support the restaurant owners' claim that the weekly operating costs are higher than the model suggests.\n"
          ]
        }
      ]
    }
  ]
}