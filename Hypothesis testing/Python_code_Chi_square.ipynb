{
  "nbformat": 4,
  "nbformat_minor": 0,
  "metadata": {
    "colab": {
      "provenance": []
    },
    "kernelspec": {
      "name": "python3",
      "display_name": "Python 3"
    },
    "language_info": {
      "name": "python"
    }
  },
  "cells": [
    {
      "cell_type": "code",
      "execution_count": 1,
      "metadata": {
        "id": "7WSuQXSl2UB9"
      },
      "outputs": [],
      "source": [
        "#Import libraries\n",
        "import numpy as np\n",
        "from scipy.stats import chi2_contingency\n",
        "from scipy.stats import chi2"
      ]
    },
    {
      "cell_type": "code",
      "source": [
        "#Arrange data as contingency table\n",
        "data = np.array ([\n",
        "    [50,70], #Very Satisfied\n",
        "    [80,100], #Satisfied\n",
        "    [60,90], #Neutral\n",
        "    [30,50], #Unsatisfied\n",
        "    [20,50] #Very Satisfied\n",
        "])"
      ],
      "metadata": {
        "id": "8eAeubX5R5U_"
      },
      "execution_count": 2,
      "outputs": []
    },
    {
      "cell_type": "code",
      "source": [
        "#Perform Chi-Square Test\n",
        "\n",
        "chi2_stat, p_value, dof, expected = chi2_contingency(data)"
      ],
      "metadata": {
        "id": "aO2H1qyiSfEV"
      },
      "execution_count": 3,
      "outputs": []
    },
    {
      "cell_type": "code",
      "source": [
        "#Calculating degrees of freedom as (number of rows -1)*(number of columns-1)\n",
        "dof = (data.shape[0] - 1) * (data.shape[1] - 1)\n",
        "alpha = 0.05 #given\n",
        "\n",
        "#Compute critical value\n",
        "critical_value = chi2.ppf(1 - alpha, dof)"
      ],
      "metadata": {
        "id": "8hvD80HWUgam"
      },
      "execution_count": 4,
      "outputs": []
    },
    {
      "cell_type": "code",
      "source": [
        "#Comparing Chi-square value to critical value\n",
        "if chi2_stat > critical_value:\n",
        "  decision = \"Reject the null hypothesis.\"\n",
        "  conclusion = \"There is a significant association between device type and customer satisfaction level.\"\n",
        "\n",
        "else:\n",
        "  decision = \"Fail to reject the null hypothesis\"\n",
        "  conclusion = \"There is no significant association between device type and customer satisfaction level.\""
      ],
      "metadata": {
        "id": "4UGyex5MVBFY"
      },
      "execution_count": 5,
      "outputs": []
    },
    {
      "cell_type": "code",
      "source": [
        "# Output the results\n",
        "print(f\"Chi-Square Statistic: {chi2_stat}\")\n",
        "print(f\"P-Value: {p_value}\")\n",
        "print(f\"Expected Frequencies: {expected}\")\n",
        "print(f\"Degrees of Freedom: {dof}\")\n",
        "print(f\"Critical Value: {critical_value}\")\n",
        "print(f\"\\nDecision: {decision} \\nConclusion: {conclusion}\")"
      ],
      "metadata": {
        "colab": {
          "base_uri": "https://localhost:8080/"
        },
        "id": "1vUXsFBYS5d4",
        "outputId": "96017930-2a51-4eec-c073-dda4f42e8cc0"
      },
      "execution_count": 7,
      "outputs": [
        {
          "output_type": "stream",
          "name": "stdout",
          "text": [
            "Chi-Square Statistic: 5.638227513227513\n",
            "P-Value: 0.22784371130697179\n",
            "Expected Frequencies: [[ 48.  72.]\n",
            " [ 72. 108.]\n",
            " [ 60.  90.]\n",
            " [ 32.  48.]\n",
            " [ 28.  42.]]\n",
            "Degrees of Freedom: 4\n",
            "Critical Value: 9.487729036781154\n",
            "\n",
            "Decision: Fail to reject the null hypothesis \n",
            "Conclusion: There is no significant association between device type and customer satisfaction level.\n"
          ]
        }
      ]
    }
  ]
}